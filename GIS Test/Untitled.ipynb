{
 "cells": [
  {
   "cell_type": "code",
   "execution_count": 21,
   "metadata": {},
   "outputs": [],
   "source": [
    "import geojson\n",
    "import geojsonio\n",
    "import planar"
   ]
  },
  {
   "cell_type": "code",
   "execution_count": 18,
   "metadata": {},
   "outputs": [
    {
     "name": "stdout",
     "output_type": "stream",
     "text": [
      "{\"coordinates\": [2.295008, 48.863454], \"type\": \"Point\"}\n"
     ]
    },
    {
     "data": {
      "text/plain": [
       "'http://geojson.io/#data=data:application/json,%7B%22type%22%3A%20%22FeatureCollection%22%2C%20%22features%22%3A%20%5B%7B%22type%22%3A%20%22Feature%22%2C%20%22geometry%22%3A%20%7B%22type%22%3A%20%22Point%22%2C%20%22coordinates%22%3A%20%5B2.295008%2C%2048.863454%5D%7D%7D%5D%7D'"
      ]
     },
     "execution_count": 18,
     "metadata": {},
     "output_type": "execute_result"
    }
   ],
   "source": [
    "point = geojson.Point((2.295008, 48.863454))\n",
    "print(point)\n",
    "geojsonio.display(point)"
   ]
  },
  {
   "cell_type": "code",
   "execution_count": 19,
   "metadata": {},
   "outputs": [
    {
     "name": "stdout",
     "output_type": "stream",
     "text": [
      "{\"coordinates\": [[[[586468.4, 6890435.199999], [586431.2, 6890499.199999], [586485.1, 6890544.199999], [586554.8, 6890597.199999], [586596.5, 6890533.599999], [586517.4, 6890484.199999], [586525.9, 6890472.099999], [586468.4, 6890435.199999]]], [[[586431.2, 6890435.2], [586431.2, 6890597.2], [586596.5, 6890597.2], [586596.5, 6890435.2], [586431.2, 6890435.2]]]], \"type\": \"MultiPolygon\"}\n"
     ]
    },
    {
     "data": {
      "text/plain": [
       "'http://geojson.io/#data=data:application/json,%7B%22type%22%3A%20%22FeatureCollection%22%2C%20%22features%22%3A%20%5B%7B%22type%22%3A%20%22Feature%22%2C%20%22geometry%22%3A%20%7B%22type%22%3A%20%22MultiPolygon%22%2C%20%22coordinates%22%3A%20%5B%5B%5B%5B586468.4%2C%206890435.199999%5D%2C%20%5B586431.2%2C%206890499.199999%5D%2C%20%5B586485.1%2C%206890544.199999%5D%2C%20%5B586554.8%2C%206890597.199999%5D%2C%20%5B586596.5%2C%206890533.599999%5D%2C%20%5B586517.4%2C%206890484.199999%5D%2C%20%5B586525.9%2C%206890472.099999%5D%2C%20%5B586468.4%2C%206890435.199999%5D%5D%5D%2C%20%5B%5B%5B586431.2%2C%206890435.2%5D%2C%20%5B586431.2%2C%206890597.2%5D%2C%20%5B586596.5%2C%206890597.2%5D%2C%20%5B586596.5%2C%206890435.2%5D%2C%20%5B586431.2%2C%206890435.2%5D%5D%5D%5D%7D%7D%5D%7D'"
      ]
     },
     "execution_count": 19,
     "metadata": {},
     "output_type": "execute_result"
    }
   ],
   "source": [
    "polygon = geojson.MultiPolygon(\n",
    "[[[[586468.3999999713, 6890435.199998539],\n",
    "[586431.1999999712, 6890499.199998541],\n",
    "[586485.0999999712, 6890544.19999854],\n",
    "[586554.7999999713, 6890597.19999854],\n",
    "[586596.4999999712, 6890533.599998539],\n",
    "[586517.3999999713, 6890484.199998541],\n",
    "[586525.8999999713, 6890472.09999854],\n",
    "[586468.3999999713, 6890435.199998539]]],\n",
    "[[[586431.2, 6890435.2], [586431.2, 6890597.2],\n",
    "[586596.5, 6890597.2], [586596.5, 6890435.2],\n",
    "[586431.2, 6890435.2]]]])\n",
    "\n",
    "print(polygon)\n",
    "geojsonio.display(polygon)"
   ]
  },
  {
   "cell_type": "code",
   "execution_count": 25,
   "metadata": {},
   "outputs": [
    {
     "data": {
      "text/plain": [
       "BoundingBox([(586431, 6.89044e+06), (586596, 6.8906e+06)])"
      ]
     },
     "execution_count": 25,
     "metadata": {},
     "output_type": "execute_result"
    }
   ],
   "source": [
    "bound = planar.BoundingBox(\n",
    "[[586468.3999999713, 6890435.199998539],\n",
    "[586431.1999999712, 6890499.199998541],\n",
    "[586485.0999999712, 6890544.19999854],\n",
    "[586554.7999999713, 6890597.19999854],\n",
    "[586596.4999999712, 6890533.599998539],\n",
    "[586517.3999999713, 6890484.199998541],\n",
    "[586525.8999999713, 6890472.09999854],\n",
    "[586468.3999999713, 6890435.199998539]])\n",
    "bound"
   ]
  },
  {
   "cell_type": "code",
   "execution_count": null,
   "metadata": {},
   "outputs": [],
   "source": [
    "planar.BoundingBox"
   ]
  }
 ],
 "metadata": {
  "kernelspec": {
   "display_name": "Python 3",
   "language": "python",
   "name": "python3"
  },
  "language_info": {
   "codemirror_mode": {
    "name": "ipython",
    "version": 3
   },
   "file_extension": ".py",
   "mimetype": "text/x-python",
   "name": "python",
   "nbconvert_exporter": "python",
   "pygments_lexer": "ipython3",
   "version": "3.7.6"
  }
 },
 "nbformat": 4,
 "nbformat_minor": 4
}
