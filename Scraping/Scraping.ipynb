{
 "cells": [
  {
   "cell_type": "code",
   "execution_count": 94,
   "metadata": {},
   "outputs": [],
   "source": [
    "import json\n",
    "import requests"
   ]
  },
  {
   "cell_type": "code",
   "execution_count": 156,
   "metadata": {},
   "outputs": [],
   "source": [
    "class Convert:\n",
    "    def list_to_json(listArg):\n",
    "        res = json.loads(json.dumps(listArg[0]))\n",
    "        return res"
   ]
  },
  {
   "cell_type": "code",
   "execution_count": 177,
   "metadata": {},
   "outputs": [
    {
     "name": "stdout",
     "output_type": "stream",
     "text": [
      "{\n",
      "  \"data\": [\n",
      "    {\n",
      "      \"title\": \"l_stationmt_autocar_r27.zip\",\n",
      "      \"latest\": \"https://www.data.gouv.fr/fr/datasets/r/0c5c3fb9-694a-4b44-a4fd-2981bfd34afc\"\n",
      "    },\n",
      "    {\n",
      "      \"title\": \"l_cagb_voies_cyclables_besancon_r27.zip\",\n",
      "      \"latest\": \"https://www.data.gouv.fr/fr/datasets/r/5d77db1f-d1f7-4e34-a6ec-60ec14695804\"\n",
      "    },\n",
      "    {\n",
      "      \"title\": \"ga_arret_bhf_orizo.geojson\",\n",
      "      \"latest\": \"https://www.data.gouv.fr/fr/datasets/r/ef9a3769-795a-4855-9ac3-69f971cc9667\"\n",
      "    },\n",
      "    {\n",
      "      \"title\": \"gda_parc_jardin.geojson\",\n",
      "      \"latest\": \"https://www.data.gouv.fr/fr/datasets/r/041c8c9a-a127-4fa4-bb33-e3cd6acbbf26\"\n",
      "    },\n",
      "    {\n",
      "      \"title\": \"gda_culture_prog_18_19.csv\",\n",
      "      \"latest\": \"https://www.data.gouv.fr/fr/datasets/r/6a4cf578-fdfa-475b-83f2-14f19ddbf8c3\"\n",
      "    }\n",
      "  ]\n",
      "}\n"
     ]
    }
   ],
   "source": [
    "database = {}\n",
    "database['data'] = []\n",
    "page = 3001\n",
    "\n",
    "while page <= 3005:\n",
    "    line = []\n",
    "    \n",
    "    #get page\n",
    "    url = \"https://www.data.gouv.fr/api/1/datasets/?page=\" + str(page) + \"&page_size=1\"\n",
    "    response = requests.get(url)\n",
    "    result_request = json.loads(response.text)\n",
    "\n",
    "    #get resources\n",
    "    data = Convert.list_to_json(result_request['data'])\n",
    "    resources = Convert.list_to_json(data['resources'])\n",
    "    \n",
    "    #add title and latest to database\n",
    "    database['data'].append({\n",
    "        'title' : resources['title'],\n",
    "        'latest' : resources['latest']\n",
    "    })\n",
    "    \n",
    "    page += 1\n",
    "\n",
    "# Convert database to a json object\n",
    "json_database = json.dumps(database, indent = 2)\n",
    "\n",
    "print(json_database)\n",
    "\n",
    "#export database to json file\n",
    "with open(\"../database/database.json\", \"w\") as outfile:\n",
    "    outfile.write(json_database)"
   ]
  }
 ],
 "metadata": {
  "kernelspec": {
   "display_name": "Python 3",
   "language": "python",
   "name": "python3"
  },
  "language_info": {
   "codemirror_mode": {
    "name": "ipython",
    "version": 3
   },
   "file_extension": ".py",
   "mimetype": "text/x-python",
   "name": "python",
   "nbconvert_exporter": "python",
   "pygments_lexer": "ipython3",
   "version": "3.7.6"
  }
 },
 "nbformat": 4,
 "nbformat_minor": 4
}
